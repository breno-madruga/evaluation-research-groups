{
 "cells": [
  {
   "cell_type": "markdown",
   "metadata": {},
   "source": [
    "# Generating Insights for Temporal Evaluation and Cohesion Analysis of Research Groups"
   ]
  },
  {
   "cell_type": "markdown",
   "metadata": {},
   "source": [
    "## 1. Importing the libraries"
   ]
  },
  {
   "cell_type": "code",
   "execution_count": null,
   "metadata": {},
   "outputs": [],
   "source": [
    "# Importing required libraries.\n",
    "import os, csv, pandas as pd, numpy as np, matplotlib.pyplot as plt, seaborn as sns\n",
    "import networkx as nx, glob\n",
    "from sklearn.preprocessing import StandardScaler\n",
    "from sklearn.cluster import KMeans\n",
    "from sklearn.metrics import classification_report, ConfusionMatrixDisplay\n",
    "from node2vec import Node2Vec\n",
    "from karateclub import Graph2Vec\n",
    "%matplotlib inline"
   ]
  },
  {
   "cell_type": "code",
   "execution_count": null,
   "metadata": {},
   "outputs": [],
   "source": [
    "# Defining a function to config Matplotlib.\n",
    "def set_config_plt():\n",
    "    sns.reset_orig()\n",
    "    plt.style.use(\"ggplot\")\n",
    "    plt.rcParams.update({\"figure.figsize\": (9, 7), \"figure.autolayout\": True,\n",
    "        \"figure.dpi\": 180, \"font.size\": 18, \"figure.facecolor\": \"white\",\n",
    "        \"axes.facecolor\": \"white\", \"axes.edgecolor\": \"black\"})\n",
    "\n",
    "# Configuring the Matplotlib.\n",
    "set_config_plt()"
   ]
  },
  {
   "cell_type": "code",
   "execution_count": null,
   "metadata": {},
   "outputs": [],
   "source": [
    "# Creating the required directories.\n",
    "os.makedirs(\"../data/output\", exist_ok=True)"
   ]
  },
  {
   "cell_type": "markdown",
   "metadata": {},
   "source": [
    "## 2. Getting and checking the information dataset"
   ]
  },
  {
   "cell_type": "markdown",
   "metadata": {},
   "source": [
    "### 2.1. Isolated Metrics of Research Group"
   ]
  },
  {
   "cell_type": "code",
   "execution_count": null,
   "metadata": {},
   "outputs": [],
   "source": [
    "# Importing the data.\n",
    "df_metrics_iso = pd.read_csv(\"../data/prepared/metrics_isolated.csv\", delimiter=\",\", header=0)"
   ]
  },
  {
   "cell_type": "code",
   "execution_count": null,
   "metadata": {},
   "outputs": [],
   "source": [
    "# Checking some information about the data.\n",
    "df_metrics_iso.info()"
   ]
  },
  {
   "cell_type": "code",
   "execution_count": null,
   "metadata": {},
   "outputs": [],
   "source": [
    "# Visualizing the first five records.\n",
    "df_metrics_iso.head()"
   ]
  },
  {
   "cell_type": "markdown",
   "metadata": {},
   "source": [
    "### 2.2. Cumulative Sliding Window for Metrics of Research Group"
   ]
  },
  {
   "cell_type": "code",
   "execution_count": null,
   "metadata": {},
   "outputs": [],
   "source": [
    "# Importing the data.\n",
    "df_metrics_agg = pd.read_csv(\"../data/prepared/metrics_cumulative.csv\", delimiter=\",\", header=0)"
   ]
  },
  {
   "cell_type": "code",
   "execution_count": null,
   "metadata": {},
   "outputs": [],
   "source": [
    "# Checking some information about the data.\n",
    "df_metrics_agg.info()"
   ]
  },
  {
   "cell_type": "code",
   "execution_count": null,
   "metadata": {},
   "outputs": [],
   "source": [
    "# Visualizing the first five records.\n",
    "df_metrics_agg.head()"
   ]
  },
  {
   "cell_type": "markdown",
   "metadata": {},
   "source": [
    "### 2.3. Cumulative Metrics of Research Group with 4-window"
   ]
  },
  {
   "cell_type": "code",
   "execution_count": null,
   "metadata": {},
   "outputs": [],
   "source": [
    "# Importing the data.\n",
    "df_metrics_4_window = pd.read_csv(\"../data/prepared/metrics_cumulative_4_window.csv\", delimiter=\",\", header=0)"
   ]
  },
  {
   "cell_type": "code",
   "execution_count": null,
   "metadata": {},
   "outputs": [],
   "source": [
    "# Checking some information about the data.\n",
    "df_metrics_4_window.info()"
   ]
  },
  {
   "cell_type": "code",
   "execution_count": null,
   "metadata": {},
   "outputs": [],
   "source": [
    "# Visualizing the first five records.\n",
    "df_metrics_4_window.head()"
   ]
  },
  {
   "cell_type": "markdown",
   "metadata": {},
   "source": [
    "### 2.4. Cumulative Metrics of Research Group with 2-window"
   ]
  },
  {
   "cell_type": "code",
   "execution_count": null,
   "metadata": {},
   "outputs": [],
   "source": [
    "# Importing the data.\n",
    "df_metrics_2_window = pd.read_csv(\"../data/prepared/metrics_cumulative_2_window.csv\", delimiter=\",\", header=0)"
   ]
  },
  {
   "cell_type": "code",
   "execution_count": null,
   "metadata": {},
   "outputs": [],
   "source": [
    "# Checking some information about the data.\n",
    "df_metrics_2_window.info()"
   ]
  },
  {
   "cell_type": "code",
   "execution_count": null,
   "metadata": {},
   "outputs": [],
   "source": [
    "# Visualizing the first five records.\n",
    "df_metrics_2_window.head()"
   ]
  },
  {
   "cell_type": "markdown",
   "metadata": {},
   "source": [
    "### 2.5. Members' Isolated Metrics"
   ]
  },
  {
   "cell_type": "code",
   "execution_count": null,
   "metadata": {},
   "outputs": [],
   "source": [
    "# Getting the data.\n",
    "df_members_iso = df_metrics_iso[df_metrics_iso.is_permanent == True]"
   ]
  },
  {
   "cell_type": "code",
   "execution_count": null,
   "metadata": {},
   "outputs": [],
   "source": [
    "# Visualizing the information about the data.\n",
    "df_members_iso.info()"
   ]
  },
  {
   "cell_type": "code",
   "execution_count": null,
   "metadata": {
    "collapsed": false,
    "pycharm": {
     "name": "#%%\n"
    }
   },
   "outputs": [],
   "source": [
    "# Visualizing the first five records.\n",
    "df_members_iso.head()"
   ]
  },
  {
   "cell_type": "markdown",
   "metadata": {},
   "source": [
    "### 2.6. Members' Metrics for Cumulative Sliding Window"
   ]
  },
  {
   "cell_type": "code",
   "execution_count": null,
   "metadata": {},
   "outputs": [],
   "source": [
    "# Getting the data.\n",
    "df_members_agg = df_metrics_agg[df_metrics_agg.is_permanent == True]"
   ]
  },
  {
   "cell_type": "code",
   "execution_count": null,
   "metadata": {
    "collapsed": false,
    "pycharm": {
     "name": "#%%\n"
    }
   },
   "outputs": [],
   "source": [
    "# Visualizing the information about the data.\n",
    "df_members_agg.info()"
   ]
  },
  {
   "cell_type": "code",
   "execution_count": null,
   "metadata": {
    "collapsed": false,
    "pycharm": {
     "name": "#%%\n"
    }
   },
   "outputs": [],
   "source": [
    "# Visualizing the first five records.\n",
    "df_members_agg.head()"
   ]
  },
  {
   "cell_type": "markdown",
   "metadata": {},
   "source": [
    "### 2.7. Members' 4-window Metrics"
   ]
  },
  {
   "cell_type": "code",
   "execution_count": null,
   "metadata": {},
   "outputs": [],
   "source": [
    "# Getting the data.\n",
    "df_members_4_window = df_metrics_4_window[df_metrics_4_window.is_permanent == True]"
   ]
  },
  {
   "cell_type": "code",
   "execution_count": null,
   "metadata": {},
   "outputs": [],
   "source": [
    "# Visualizing the information about the data.\n",
    "df_members_4_window.info()"
   ]
  },
  {
   "cell_type": "code",
   "execution_count": null,
   "metadata": {},
   "outputs": [],
   "source": [
    "# Visualizing the first five records.\n",
    "df_members_4_window.head()"
   ]
  },
  {
   "cell_type": "markdown",
   "metadata": {},
   "source": [
    "### 2.8. Members' 2-window Metrics"
   ]
  },
  {
   "cell_type": "code",
   "execution_count": null,
   "metadata": {},
   "outputs": [],
   "source": [
    "# Getting the data.\n",
    "df_members_2_window = df_metrics_2_window[df_metrics_2_window.is_permanent == True]"
   ]
  },
  {
   "cell_type": "code",
   "execution_count": null,
   "metadata": {},
   "outputs": [],
   "source": [
    "# Visualizing the information about the data.\n",
    "df_members_2_window.info()"
   ]
  },
  {
   "cell_type": "code",
   "execution_count": null,
   "metadata": {},
   "outputs": [],
   "source": [
    "# Visualizing the first five records.\n",
    "df_members_2_window.head()"
   ]
  },
  {
   "cell_type": "markdown",
   "metadata": {},
   "source": [
    "### 2.9. Research Group's Production data"
   ]
  },
  {
   "cell_type": "code",
   "execution_count": null,
   "metadata": {},
   "outputs": [],
   "source": [
    "# Importing the data.\n",
    "df_data = pd.read_csv(\"../data/prepared/production_members_final.csv\", index_col=False, header=0, dtype=object)"
   ]
  },
  {
   "cell_type": "code",
   "execution_count": null,
   "metadata": {},
   "outputs": [],
   "source": [
    "# Visualizing the information about the data.\n",
    "df_data.info()"
   ]
  },
  {
   "cell_type": "code",
   "execution_count": null,
   "metadata": {},
   "outputs": [],
   "source": [
    "# Visualizing the first five records.\n",
    "df_data.head()"
   ]
  },
  {
   "cell_type": "markdown",
   "metadata": {},
   "source": [
    "### 2.10. Researchers' Stats and Data"
   ]
  },
  {
   "cell_type": "code",
   "execution_count": null,
   "metadata": {},
   "outputs": [],
   "source": [
    "# Importing the data.\n",
    "df_members = pd.read_csv(\"../data/prepared/members_stats_final.csv\", index_col=False, header=0)"
   ]
  },
  {
   "cell_type": "code",
   "execution_count": null,
   "metadata": {},
   "outputs": [],
   "source": [
    "# Visualizing the information about the data.\n",
    "df_members.info()"
   ]
  },
  {
   "cell_type": "code",
   "execution_count": null,
   "metadata": {},
   "outputs": [],
   "source": [
    "# Visualizing the first five records.\n",
    "df_members.head()"
   ]
  },
  {
   "cell_type": "markdown",
   "metadata": {},
   "source": [
    "### 2.11. Research Group's Temporal Nets"
   ]
  },
  {
   "cell_type": "code",
   "execution_count": null,
   "metadata": {},
   "outputs": [],
   "source": [
    "# Getting the data.\n",
    "net_isolated = sorted(glob.glob(\"../data/networks/*network.gexf\"))\n",
    "net_cumulative = sorted(glob.glob(\"../data/networks/*network_cumulative.gexf\"))\n",
    "net_4_window = sorted(glob.glob(\"../data/networks/*network_cumulative_4_window.gexf\"))\n",
    "net_2_window = sorted(glob.glob(\"../data/networks/*network_cumulative_2_window.gexf\"))"
   ]
  },
  {
   "cell_type": "markdown",
   "metadata": {
    "collapsed": false
   },
   "source": [
    "## 3. Cleaning the dataframes"
   ]
  },
  {
   "cell_type": "code",
   "execution_count": null,
   "metadata": {},
   "outputs": [],
   "source": [
    "# Changing the invalid values to \"None\".\n",
    "df_metrics_iso.replace({np.nan: None}, inplace=True)\n",
    "df_metrics_agg.replace({np.nan: None}, inplace=True)\n",
    "df_metrics_4_window.replace({np.nan: None}, inplace=True)\n",
    "df_metrics_2_window.replace({np.nan: None}, inplace=True)\n",
    "df_members_iso.replace({np.nan: None}, inplace=True)\n",
    "df_members_agg.replace({np.nan: None}, inplace=True)\n",
    "df_members_4_window.replace({np.nan: None}, inplace=True)\n",
    "df_members_2_window.replace({np.nan: None}, inplace=True)\n",
    "df_data.replace({np.nan: None}, inplace=True)\n",
    "df_members.replace({np.nan: None}, inplace=True)"
   ]
  },
  {
   "cell_type": "code",
   "execution_count": null,
   "metadata": {},
   "outputs": [],
   "source": [
    "# Reading each network.\n",
    "net_isolated = dict(zip(sorted(df_metrics_iso.year.unique()),\n",
    "                        [nx.read_gexf(graph) for graph in net_isolated]))\n",
    "net_cumulative = dict(zip(sorted(df_metrics_iso.year.unique()),\n",
    "                          [nx.read_gexf(graph) for graph in net_cumulative]))\n",
    "net_4_window = dict(zip(sorted(df_metrics_iso.year.unique()),\n",
    "                      [nx.read_gexf(graph) for graph in net_4_window]))\n",
    "net_2_window = dict(zip(sorted(df_metrics_iso.year.unique()),\n",
    "                      [nx.read_gexf(graph) for graph in net_2_window]))"
   ]
  },
  {
   "cell_type": "code",
   "execution_count": null,
   "metadata": {},
   "outputs": [],
   "source": [
    "# Removing unnecessary columns.\n",
    "columns = [\"id\", \"h_index\", \"is_permanent\", \"research_line\"]\n",
    "df_members_iso.drop(columns=columns, inplace=True)\n",
    "df_members_agg.drop(columns=columns, inplace=True)\n",
    "df_members_4_window.drop(columns=columns, inplace=True)\n",
    "df_members_2_window.drop(columns=columns, inplace=True)"
   ]
  },
  {
   "cell_type": "code",
   "execution_count": null,
   "metadata": {},
   "outputs": [],
   "source": [
    "# Aggregating the data.\n",
    "columns_agg = {\"metric_value\": \"mean\", \"total_num_paper\": \"first\"}\n",
    "columns = [\"metric_name\", \"complete_name\", \"year\"]\n",
    "df_members_iso = df_members_iso.groupby(columns).agg(columns_agg).reset_index().rename(\n",
    "    columns={\"complete_name\": \"researcher\"})\n",
    "df_members_agg = df_members_agg.groupby(columns).agg(columns_agg).reset_index().rename(\n",
    "    columns={\"complete_name\": \"researcher\"})\n",
    "df_members_4_window = df_members_4_window.groupby(columns).agg(columns_agg).reset_index().rename(\n",
    "    columns={\"complete_name\": \"researcher\"})\n",
    "df_members_2_window = df_members_2_window.groupby(columns).agg(columns_agg).reset_index().rename(\n",
    "    columns={\"complete_name\": \"researcher\"})"
   ]
  },
  {
   "cell_type": "code",
   "execution_count": null,
   "metadata": {},
   "outputs": [],
   "source": [
    "# Changing the type of numeric columns.\n",
    "df_data.year = df_data.year.apply(lambda x: int(x) if not pd.isnull(x) else None)\n",
    "df_data.citation_num = df_data.citation_num.apply(lambda x: int(x) if not pd.isnull(x) else None)\n",
    "df_data.month = df_data.month.apply(lambda x: int(x) if not pd.isnull(x) else None)\n",
    "df_data.ref_count = df_data.ref_count.apply(lambda x: int(float(x)) if not pd.isnull(x) else None)"
   ]
  },
  {
   "cell_type": "code",
   "execution_count": null,
   "metadata": {},
   "outputs": [],
   "source": [
    "# Converting from the \"str\" type to the \"list\" type of some columns of data.\n",
    "df_data.members_name = df_data.members_name.apply(lambda x: eval(x) if x else None)\n",
    "df_data.auth_keywords = df_data.auth_keywords.apply(lambda x: eval(x) if x else None)\n",
    "df_data.index_terms = df_data.index_terms.apply(lambda x: eval(x) if x else None)\n",
    "df_data.affiliations = df_data.affiliations.apply(lambda x: eval(x) if x else None)\n",
    "df_data.subject_areas = df_data.subject_areas.apply(lambda x: eval(x) if x else None)\n",
    "df_data.authors = df_data.authors.apply(lambda x: eval(x) if x else None)\n",
    "df_data.author_affil = df_data.author_affil.apply(lambda x: eval(x) if x else None)\n",
    "df_data.references = df_data.references.apply(lambda x: eval(x) if x else None)"
   ]
  },
  {
   "cell_type": "code",
   "execution_count": null,
   "metadata": {},
   "outputs": [],
   "source": [
    "# Defining the number of articles per year for each researcher.\n",
    "df_members_iso.loc[:, \"num_paper\"] = df_members_iso[[\"researcher\", \"year\"]].apply(lambda row: df_data[\n",
    "    (df_data.year == row.year) &\n",
    "    ([row.researcher in members for members in df_data.members_name])].id.size, axis=1)\n",
    "df_members_agg.loc[:, \"num_paper\"] = df_members_agg[[\"researcher\", \"year\"]].apply(lambda row: df_data[\n",
    "    (df_data.year <= row.year) &\n",
    "    ([row.researcher in members for members in df_data.members_name])].id.size, axis=1)\n",
    "df_members_4_window.loc[:, \"num_paper\"] = df_members_4_window[[\"researcher\", \"year\"]].apply(lambda row: df_data[\n",
    "    (df_data.year >= row.year - 3) & (df_data.year <= row.year) &\n",
    "    ([row.researcher in members for members in df_data.members_name])].id.size, axis=1)\n",
    "df_members_2_window.loc[:, \"num_paper\"] = df_members_2_window[[\"researcher\", \"year\"]].apply(lambda row: df_data[\n",
    "    (df_data.year >= row.year - 1) & (df_data.year <= row.year) &\n",
    "    ([row.researcher in members for members in df_data.members_name])].id.size, axis=1)"
   ]
  },
  {
   "cell_type": "code",
   "execution_count": null,
   "metadata": {},
   "outputs": [],
   "source": [
    "# Creating the feature \"percentual_num_paper\".\n",
    "df_members_iso[\"percentual_num_paper\"] = (df_members_iso[\"num_paper\"] / df_members_iso[\"total_num_paper\"]) * 100\n",
    "df_members_agg[\"percentual_num_paper\"] = (df_members_agg[\"num_paper\"] / df_members_agg[\"total_num_paper\"]) * 100\n",
    "df_members_4_window[\"percentual_num_paper\"] = (df_members_4_window[\"num_paper\"] / df_members_4_window[\"total_num_paper\"]) * 100\n",
    "df_members_2_window[\"percentual_num_paper\"] = (df_members_2_window[\"num_paper\"] / df_members_2_window[\"total_num_paper\"]) * 100"
   ]
  },
  {
   "cell_type": "code",
   "execution_count": null,
   "metadata": {},
   "outputs": [],
   "source": [
    "# Converting from the \"str\" type to the \"list\" type of some columns of data.\n",
    "df_members.identifiers = df_members.identifiers.apply(lambda x: eval(x) if x else None)\n",
    "df_members.subject_areas = df_members.subject_areas.apply(lambda x: eval(x) if x else None)\n",
    "df_members.affiliation_current = df_members.affiliation_current.apply(lambda x: eval(x) if x else None)\n",
    "df_members.affiliation_history = df_members.affiliation_history.apply(lambda x: eval(x) if x else None)"
   ]
  },
  {
   "cell_type": "markdown",
   "metadata": {
    "collapsed": false
   },
   "source": [
    "## 4. Utils functions"
   ]
  },
  {
   "cell_type": "markdown",
   "metadata": {},
   "source": [
    "### 4.1. Visualization methods"
   ]
  },
  {
   "cell_type": "code",
   "execution_count": null,
   "metadata": {},
   "outputs": [],
   "source": [
    "def plot_single_line_chart(x_values, y_values, x_label, y_label, title, name_fig=None, pos_vline=None, text_vline=None):\n",
    "    fig, ax = plt.subplots()\n",
    "    ax.plot(x_values, y_values, marker=\"o\")\n",
    "    ax.set_title(title)\n",
    "    ax.set_xlabel(x_label)\n",
    "    ax.set_ylabel(y_label)\n",
    "    ax.set_xticks(x_values)\n",
    "    if pos_vline:\n",
    "        ax.axvline(pos_vline, ymax=0.92, color=\"#400000\", linewidth=4)\n",
    "        ax.text(pos_vline + 0.1, y_values[pos_vline - 1] + 0.1, text_vline, color=\"black\")\n",
    "    ax.set_ylim([0, max(y_values) * 1.1])\n",
    "    fig.tight_layout()\n",
    "    if name_fig:\n",
    "        plt.savefig(name_fig)\n",
    "    plt.show()    "
   ]
  },
  {
   "cell_type": "code",
   "execution_count": null,
   "metadata": {},
   "outputs": [],
   "source": [
    "def plot_multiple_line_chart(dataframe, x_value, y_values, y_labels, title, xaxis_label, yaxis_label,\n",
    "                             title_legend=None, name_fig=None, y_is_int=False, external_legend=True,\n",
    "                             has_legend=True):\n",
    "    fig, ax = plt.subplots()\n",
    "    ax.set_title(title, fontsize=16)\n",
    "    ax.set_xlabel(xaxis_label)\n",
    "    ax.set_ylabel(yaxis_label)\n",
    "    for idx in range(len(y_values)):\n",
    "        ax.plot(dataframe[x_value], dataframe[y_values[idx]], marker=\"o\", label=y_labels[idx])\n",
    "    ax.set_xticks(dataframe[x_value])\n",
    "    ax.set_xticklabels(ax.get_xticks(), rotation = 45)\n",
    "    if y_is_int:\n",
    "        ax.set_yticks([item for item in np.arange(0, dataframe[y_values].max().max() + 1, 2)])\n",
    "    else:\n",
    "        ax.set_yticks([float(\"{:.3f}\".format(item)) for item in np.linspace(0, dataframe[y_values].max().max(), 10)])\n",
    "    ax.set_ylim([0, dataframe[y_values].max().max() * 1.1])\n",
    "    plt.axvspan(2019, 2021, color='gray', alpha=0.3)\n",
    "    if has_legend:\n",
    "        ax.legend(title=title_legend, fontsize=\"medium\")\n",
    "    if external_legend and has_legend:\n",
    "        plt.legend(loc=\"center left\", bbox_to_anchor=(1, 0.5))\n",
    "    fig.tight_layout()\n",
    "    if name_fig:\n",
    "        plt.savefig(name_fig)\n",
    "    plt.show()"
   ]
  },
  {
   "cell_type": "code",
   "execution_count": null,
   "metadata": {},
   "outputs": [],
   "source": [
    "def plot_multiple_line_chart_sns(dataframe, x_value, y_value, y_value_style, title, xaxis_label, yaxis_label,\n",
    "                                 y_lim_max=1, has_error=False, has_legend=True, title_legend=None, labels_legend=None,\n",
    "                                 external_legend=False, highlight_pandemic=True, name_fig=None):\n",
    "\n",
    "    colors = [\"#0e77ab\",\"#39c8c6\",\"#e16670\",\"#7d2b32\",\"#e6c7ca\",\n",
    "              \"#9b5de5\",\"#f15bb5\",\"#fee440\",\"#00bbf9\",\"#00f5d4\", \"#a9bac7\",\n",
    "              \"#a3cef1\",\"#8b8c89\", \"#ff9770\",\"#ffd670\",\"#adcc00\", \"#f992ad\",\n",
    "              \"#fab4c8\",\"#f8a0d6\",\"#d4b0f9\", \"#1c3144\"][:dataframe[y_value_style].unique().size]\n",
    "\n",
    "    ax = sns.lineplot(data=dataframe, x=x_value, y=y_value, hue=y_value_style, style=y_value_style, markers=True,\n",
    "                      legend=\"auto\" if has_legend else has_legend, ci=\"sd\" if has_error else None,\n",
    "                      palette=colors)\n",
    "    ax.set_title(title, fontsize=16)\n",
    "    ax.set_ylabel(yaxis_label)\n",
    "    ax.set_ylim([0, y_lim_max])\n",
    "    ax.set_xlabel(xaxis_label)\n",
    "    ax.set_xticks(sorted(dataframe[x_value].unique()))\n",
    "    ax.set_xticklabels(ax.get_xticks(), rotation = 45)\n",
    "    if highlight_pandemic:\n",
    "        plt.axvspan(2019, 2021, color=\"gray\", alpha=0.2)\n",
    "    if external_legend and has_legend:\n",
    "        plt.legend(loc=\"center left\", bbox_to_anchor=(1, 0.5), fontsize=\"medium\")\n",
    "    if title_legend and has_legend:\n",
    "        ax.get_legend().set_title(title_legend)\n",
    "    if labels_legend and has_legend:\n",
    "        for t, l in zip(ax.get_legend().texts, labels_legend):\n",
    "            t.set_text(l)\n",
    "    plt.tight_layout()\n",
    "    if name_fig:\n",
    "        plt.savefig(name_fig)\n",
    "    plt.show()"
   ]
  },
  {
   "cell_type": "code",
   "execution_count": null,
   "metadata": {},
   "outputs": [],
   "source": [
    "def plot_clusters(dataframe, x_value, y_value, class_value, size_value, label_value, x_label, y_label, title, num_bins=5,\n",
    "                  space_legend=2, name_fig=None):\n",
    "    pallete = ['#4198B7', '#39C8C6', '#D3500C', '#FFB139',\n",
    "               '#0E77AB', '#1E3544', '#041434', '#12B5C4',\n",
    "               '#630C3A']\n",
    "    fig, ax = plt.subplots(figsize=(12,7))\n",
    "    ax.set_title(title)\n",
    "    ax.set_xlabel(x_label)\n",
    "    ax.set_ylabel(y_label)\n",
    "    sc = ax.scatter(dataframe[x_value], dataframe[y_value], s=dataframe[size_value] * 10,\n",
    "                    c=dataframe[class_value].apply(lambda x: pallete[int(x)]))\n",
    "    for idx, record in dataframe.iterrows():\n",
    "        ax.annotate(record[label_value], (record[x_value], record[y_value]),\n",
    "                    xytext=(0, 1), textcoords=\"offset points\", ha=\"center\", va=\"center\", fontsize=13)\n",
    "    handles, labels = sc.legend_elements(prop=\"sizes\", alpha=0.5, num=num_bins)\n",
    "    labels = np.linspace(dataframe[size_value].min(), dataframe[size_value].max(), num_bins, dtype=int)\n",
    "    ax.legend(handles, labels, title=\"Nº. of Manuscripts\", fontsize=\"small\",\n",
    "              title_fontsize=\"medium\", loc='center left', bbox_to_anchor=(1, 0.5),\n",
    "              borderpad=1, handletextpad=2, labelspacing=space_legend, frameon=False)\n",
    "    fig.tight_layout()\n",
    "    if name_fig:\n",
    "        plt.savefig(name_fig)\n",
    "    plt.show()"
   ]
  },
  {
   "cell_type": "code",
   "execution_count": null,
   "metadata": {},
   "outputs": [],
   "source": [
    "def plot_overlapping_kdes(dataframe, x_value, hue_value, x_label, xlim=None, name_fig=None):\n",
    "    sns.set_theme(style=\"white\", rc={\"axes.facecolor\": (0, 0, 0, 0)})\n",
    "    # Initializing the FacetGrid object.\n",
    "    pal = sns.cubehelix_palette(13, rot=-.25, light=.7)\n",
    "    ax = sns.FacetGrid(dataframe, row=hue_value, hue=hue_value, aspect=15, height=.5, palette=pal)\n",
    "\n",
    "    # Drawing the densities in a few steps.\n",
    "    ax.map(sns.kdeplot, x_value, bw_adjust=.5, clip_on=False, fill=True, alpha=1, linewidth=1.5)\n",
    "    ax.map(sns.kdeplot, x_value, clip_on=False, color=\"w\", lw=2, bw_adjust=.5)\n",
    "\n",
    "    # Passing color=None to refline() uses the hue mapping.\n",
    "    ax.refline(y=0, linewidth=1, linestyle=\"-\", color=None, clip_on=False)\n",
    "\n",
    "    # Defining and using a simple function to label the plot in axes coordinates.\n",
    "    def label(x, color, label):\n",
    "        ax = plt.gca()\n",
    "        ax.text(0, .2, label, fontweight=\"bold\", color=color,\n",
    "                ha=\"left\", va=\"center\", transform=ax.transAxes)\n",
    "    ax.map(label, x_value)\n",
    "\n",
    "    # Setting the subplots to overlap.\n",
    "    ax.figure.subplots_adjust(hspace=-.25)\n",
    "\n",
    "    # Removing axes details that don't play well with overlap.\n",
    "    ax.set_titles(\"\")\n",
    "    ax.set(yticks=[], ylabel=\"\")\n",
    "    ax.despine(bottom=True, left=True)\n",
    "    ax.set_xlabels(\"\")\n",
    "    ax.set(xlim=(None, xlim))\n",
    "    if name_fig:\n",
    "        plt.savefig(name_fig)\n",
    "    plt.show()"
   ]
  },
  {
   "cell_type": "code",
   "execution_count": null,
   "metadata": {},
   "outputs": [],
   "source": [
    "def plot_confusion_matrix(y_real, y_pred, name_fig=None):\n",
    "    ConfusionMatrixDisplay.from_predictions(y_real, y_pred, colorbar=False)\n",
    "    if name_fig:\n",
    "        plt.savefig(name_fig)\n",
    "    plt.show()"
   ]
  },
  {
   "cell_type": "markdown",
   "metadata": {},
   "source": [
    "### 4.2. Clustering Methods"
   ]
  },
  {
   "cell_type": "code",
   "execution_count": null,
   "metadata": {},
   "outputs": [],
   "source": [
    "# Defining the function to cluster the data.\n",
    "def clustering_kmeans(dataframe, n_clusters):\n",
    "    # Preprocessing the data.\n",
    "    ss = StandardScaler()\n",
    "    X = ss.fit_transform(dataframe)\n",
    "\n",
    "    # Training the model and clustering the data.\n",
    "    model = KMeans(n_clusters=n_clusters, random_state=42)\n",
    "    model.fit(X)\n",
    "    y_pred = model.predict(X)\n",
    "\n",
    "    return y_pred"
   ]
  },
  {
   "cell_type": "code",
   "execution_count": null,
   "metadata": {},
   "outputs": [],
   "source": [
    "# Defining the Elbow method.\n",
    "def elbow_method(dataframe, max_k):\n",
    "    # Preprocessing the data.\n",
    "    ss = StandardScaler()\n",
    "    X = ss.fit_transform(dataframe)\n",
    "\n",
    "    sse = dict()\n",
    "    for k in range(1, max_k + 1):\n",
    "        temp = pd.DataFrame(data=X, columns=dataframe.columns.tolist())\n",
    "        sse[k] = pd.Series([0] * temp.columns.size, index=temp.columns)\n",
    "        model = KMeans(n_clusters=k, random_state=42)\n",
    "        model.fit(X)\n",
    "        temp[\"label\"] = model.predict(X)\n",
    "        for c in range(k):\n",
    "            sse[k] += np.sum(np.power(\n",
    "              temp.iloc[[c == cluster for cluster in temp.label], :-1] - model.cluster_centers_[c], 2))\n",
    "        sse[k] = sse[k].sum()\n",
    "    return pd.Series(sse)"
   ]
  },
  {
   "cell_type": "code",
   "execution_count": null,
   "metadata": {},
   "outputs": [],
   "source": [
    "# Function to generate a net with the cluster of each node.\n",
    "def generate_net_cluster(graph, dataframe, name_file):\n",
    "    G = nx.Graph(graph)\n",
    "    attrs = {row.id: {\"cluster\": row.cluster,\n",
    "                      \"num_paper\": row.num_paper,\n",
    "                      \"id_alt\": row.id_alt,\n",
    "                      \"pred_rl\": row.pred_rl}\n",
    "             for row in dataframe.itertuples()}\n",
    "    nx.set_node_attributes(G, attrs)\n",
    "    nx.write_gexf(G, name_file)"
   ]
  },
  {
   "cell_type": "code",
   "execution_count": null,
   "metadata": {},
   "outputs": [],
   "source": [
    "# Function to discretize the research line for each member.\n",
    "def discretize_research_line(research_line):\n",
    "    if research_line == \"Automation and Systems\":\n",
    "        return 1\n",
    "    elif research_line == \"Computer Engineering\":\n",
    "        return 2\n",
    "    elif research_line == \"Telecommunication\":\n",
    "        return 3\n",
    "    else:\n",
    "        return None"
   ]
  },
  {
   "cell_type": "code",
   "execution_count": null,
   "metadata": {},
   "outputs": [],
   "source": [
    "# Function to define the research line from the cluster.\n",
    "def set_research_line_from_cluster(dataframe, num_members_per_line):\n",
    "    dataframe[\"pred_rl\"] = None\n",
    "    for c in sorted(dataframe.cluster.unique()):\n",
    "        temp = dataframe.real_rl[dataframe.cluster == c].value_counts()\n",
    "        temp = temp / num_members_per_line[temp.index.tolist()]\n",
    "        main_line = temp[temp == temp.max()].index.tolist()\n",
    "        if len(main_line) == 1:\n",
    "            dataframe.loc[dataframe.cluster == c, \"pred_rl\"] = main_line[0]\n",
    "        elif len(main_line) > 1:\n",
    "            temp = dataframe.loc[\n",
    "                (dataframe.cluster == c) & (dataframe.real_rl.isin(main_line)),\n",
    "                [\"num_paper\", \"real_rl\"]\n",
    "            ].groupby(\"real_rl\").num_paper.sum().sort_values(ascending=False)\n",
    "            dataframe.loc[dataframe.cluster == c, \"pred_rl\"] = temp.index.tolist()[0]\n",
    "    dataframe[\"pred_rl\"] = dataframe[\"pred_rl\"].astype(np.int32)\n",
    "    dataframe[\"pred_rl\"] = dataframe[\"pred_rl\"].astype(\"category\")\n",
    "    return dataframe.pred_rl.copy()"
   ]
  },
  {
   "cell_type": "markdown",
   "metadata": {},
   "source": [
    "### 4.3. Embedding Methods"
   ]
  },
  {
   "cell_type": "code",
   "execution_count": null,
   "metadata": {},
   "outputs": [],
   "source": [
    "# Function to create the embedding vector from a graph.\n",
    "def get_vector_from_graph(graph, num_dimension=2, num_window=10):\n",
    "    node2vec = Node2Vec(graph, dimensions=num_dimension)\n",
    "    model = node2vec.fit(window=num_window)\n",
    "    data = []\n",
    "    for node in graph.nodes(data=True):\n",
    "        vector = model.wv.get_vector(str(node[0]))\n",
    "        vector = {\"column_{}\".format(n + 1): vector[n] for n in range(num_dimension)}\n",
    "        data.append({**node[1], **vector})\n",
    "    return pd.DataFrame(data).rename(columns={\"label\": \"id_scopus\"})"
   ]
  },
  {
   "cell_type": "code",
   "execution_count": null,
   "metadata": {},
   "outputs": [],
   "source": [
    "# Function to create the embedding vectors from a list of graph.\n",
    "def get_graph_embedding(graphs, num_dimension=2):\n",
    "    graphs = {k: nx.convert_node_labels_to_integers(G) for k, G in graphs.items()}\n",
    "    model = Graph2Vec(dimensions=num_dimension)\n",
    "    model.fit(list(graphs.values()))\n",
    "    embeddings = model.get_embedding()\n",
    "    data = pd.DataFrame(columns=[\"year\", *[\"column_{}\".format(n + 1) for n in range(num_dimension)]])\n",
    "    data[\"year\"] = list(graphs.keys())\n",
    "    data.iloc[:, -2:] = embeddings\n",
    "    return data"
   ]
  },
  {
   "cell_type": "markdown",
   "metadata": {},
   "source": [
    "## 5. Exploratory Data Analysis"
   ]
  },
  {
   "cell_type": "markdown",
   "metadata": {},
   "source": [
    "### 5.1. Research Group's Analysis"
   ]
  },
  {
   "cell_type": "markdown",
   "metadata": {},
   "source": [
    "#### 5.1.1. Evaluation of Reseach Group by Metrics' Temporal Analysis"
   ]
  },
  {
   "cell_type": "code",
   "execution_count": null,
   "metadata": {
    "collapsed": false,
    "pycharm": {
     "name": "#%%\n"
    }
   },
   "outputs": [],
   "source": [
    "# Getting the data.\n",
    "df = df_metrics_iso[df_metrics_iso.metric_name.isin(\n",
    "    [\"degree\", \"betweenness\", \"eigenvector\", \"closeness\"])].copy()"
   ]
  },
  {
   "cell_type": "code",
   "execution_count": null,
   "metadata": {
    "collapsed": false,
    "pycharm": {
     "name": "#%%\n"
    }
   },
   "outputs": [],
   "source": [
    "# Plotting the data.\n",
    "plot_multiple_line_chart_sns(df, \"year\", \"metric_value\", \"metric_name\", None,\n",
    "                             \"Year\", \"Metric Value\", 0.25, True, True, \"Metric\",\n",
    "                             [\"Degree\", \"Betweenness\", \"Eigenvector\", \"Closeness\"],\n",
    "                             name_fig=\"../data/output/01_centrality_metrics_iso.png\")"
   ]
  },
  {
   "cell_type": "code",
   "execution_count": null,
   "metadata": {},
   "outputs": [],
   "source": [
    "# Getting the data.\n",
    "df = df_metrics_agg[df_metrics_agg.metric_name.isin(\n",
    "    [\"degree\", \"betweenness\", \"eigenvector\", \"closeness\"])].copy()"
   ]
  },
  {
   "cell_type": "code",
   "execution_count": null,
   "metadata": {},
   "outputs": [],
   "source": [
    "# Plotting the data.\n",
    "plot_multiple_line_chart_sns(df, \"year\", \"metric_value\", \"metric_name\", None,\n",
    "                             \"Year\", \"Metric Value\", 0.25, True, False,\n",
    "                             name_fig=\"../data/output/02_centrality_metrics_agg.png\")"
   ]
  },
  {
   "cell_type": "code",
   "execution_count": null,
   "metadata": {},
   "outputs": [],
   "source": [
    "# Getting the data.\n",
    "df = df_metrics_4_window[df_metrics_4_window.metric_name.isin(\n",
    "    [\"degree\", \"betweenness\", \"eigenvector\", \"closeness\"])].copy()"
   ]
  },
  {
   "cell_type": "code",
   "execution_count": null,
   "metadata": {},
   "outputs": [],
   "source": [
    "# Plotting the data.\n",
    "plot_multiple_line_chart_sns(df, \"year\", \"metric_value\", \"metric_name\", None,\n",
    "                             \"Year\", \"Metric Value\", 0.25, True, False,\n",
    "                             name_fig=\"../data/output/03_centrality_metrics_4_window.png\")"
   ]
  },
  {
   "cell_type": "markdown",
   "metadata": {},
   "source": [
    "#### 5.1.2. Cohesion Analysis by Connected Components (CC) Analysis"
   ]
  },
  {
   "cell_type": "code",
   "execution_count": null,
   "metadata": {},
   "outputs": [],
   "source": [
    "# Function to generate the histogram data.\n",
    "def get_data_hist_cc(networks, only_members=True):\n",
    "    records = []\n",
    "    for year, G in networks.items():\n",
    "        if only_members:\n",
    "            members = [id for id, node in G.nodes(data=True) if node[\"is_permanent\"]]\n",
    "            nodes = [n for m in members for n in G.neighbors(m)]\n",
    "            nodes = list(set([*members, *nodes]))\n",
    "            G = nx.subgraph(G, nodes)\n",
    "        for idx, cc in enumerate(nx.connected_components(G)):\n",
    "            record = {}\n",
    "            record[\"year\"] = year\n",
    "            record[\"id_cc\"] = idx + 1\n",
    "            record[\"number_nodes_cc\"] = len(cc)\n",
    "            records.append(record)\n",
    "    return pd.DataFrame(records)"
   ]
  },
  {
   "cell_type": "markdown",
   "metadata": {},
   "source": [
    "##### 5.1.2.1. Distribution of Number of Nodes in CC (Isolated Scenario)"
   ]
  },
  {
   "cell_type": "code",
   "execution_count": null,
   "metadata": {},
   "outputs": [],
   "source": [
    "# Getting the data.\n",
    "df = get_data_hist_cc(net_isolated)\n",
    "df = df[[\"year\", \"number_nodes_cc\"]]\n",
    "data = df.year.value_counts().to_frame(\"isolated\")\n",
    "df = df[df.number_nodes_cc < 130]"
   ]
  },
  {
   "cell_type": "code",
   "execution_count": null,
   "metadata": {},
   "outputs": [],
   "source": [
    "# Plotting the data.\n",
    "plot_overlapping_kdes(df, \"number_nodes_cc\", \"year\",\n",
    "                      \"Nº. of Nodes in Connected Components\", 150,\n",
    "                      \"../data/output/04_cc_analysis_iso.png\")"
   ]
  },
  {
   "cell_type": "code",
   "execution_count": null,
   "metadata": {},
   "outputs": [],
   "source": [
    "# Restoring the config of Matplotlib.\n",
    "set_config_plt()"
   ]
  },
  {
   "cell_type": "markdown",
   "metadata": {},
   "source": [
    "##### 5.1.2.2. Time Series of Number of Connected Components"
   ]
  },
  {
   "cell_type": "code",
   "execution_count": null,
   "metadata": {},
   "outputs": [],
   "source": [
    "# Getting and listing the data.\n",
    "data[\"cumulative\"] = get_data_hist_cc(net_cumulative)[[\"year\", \"number_nodes_cc\"]].year.value_counts()\n",
    "data[\"window_4\"] = get_data_hist_cc(net_4_window)[[\"year\", \"number_nodes_cc\"]].year.value_counts()\n",
    "data = data.reset_index().rename(columns={\"index\": \"year\"}).sort_values(\"year\").reset_index(drop=True)\n",
    "data"
   ]
  },
  {
   "cell_type": "code",
   "execution_count": null,
   "metadata": {},
   "outputs": [],
   "source": [
    "# Plotting the data.\n",
    "plot_multiple_line_chart(data, data.columns[0], data.columns[1:].tolist(),\n",
    "                         [\"Isolated\", \"Cumulative\", \"4-window\"], None,\n",
    "                         \"Year\", \"Nº. of CC\", None, y_is_int=True, external_legend=False,\n",
    "                         name_fig=\"../data/output/05_time_series_num_cc.png\")"
   ]
  },
  {
   "cell_type": "markdown",
   "metadata": {},
   "source": [
    "#### 5.1.3. Clustering Analysis of Research Group's Temporal Nets"
   ]
  },
  {
   "cell_type": "markdown",
   "metadata": {},
   "source": [
    "##### 5.1.3.1. Isolated Scenario"
   ]
  },
  {
   "cell_type": "code",
   "execution_count": null,
   "metadata": {},
   "outputs": [],
   "source": [
    "# Getting the data.\n",
    "df = df_metrics_iso[[\"year\", \"total_num_paper\"]].groupby(\"year\").first().reset_index()\n",
    "data = get_graph_embedding(dict(net_isolated))\n",
    "data[\"num_paper\"] = df[\"total_num_paper\"].astype(np.int64)\n",
    "data.year = data.year.apply(lambda x: str(int(x)))"
   ]
  },
  {
   "cell_type": "code",
   "execution_count": null,
   "metadata": {},
   "outputs": [],
   "source": [
    "# Trying to discovery the optimal k.\n",
    "sse = elbow_method(data.iloc[:, 1:3].copy(), 10)\n",
    "plot_single_line_chart(sse.index, sse.values, \"Nº. of Clusters\", \"W(C)\", None,\n",
    "                       \"../data/output/06_elbow_k_optimal_iso.png\", 4, \"best k-clusters\")"
   ]
  },
  {
   "cell_type": "code",
   "execution_count": null,
   "metadata": {},
   "outputs": [],
   "source": [
    "# Clustering the data.\n",
    "data[\"cluster\"] = clustering_kmeans(data.iloc[:, 1:3].copy(), 4)"
   ]
  },
  {
   "cell_type": "code",
   "execution_count": null,
   "metadata": {},
   "outputs": [],
   "source": [
    "# Plotting the clustering result.\n",
    "plot_clusters(data, \"column_1\", \"column_2\", \"cluster\", \"num_paper\", \"year\",\n",
    "              \"Embedding Column 1\", \"Embedding Column 2\", None,\n",
    "              name_fig=\"../data/output/07_clustering_embeddings_iso.png\")"
   ]
  },
  {
   "cell_type": "markdown",
   "metadata": {},
   "source": [
    "##### 5.1.3.2. 4-Window Cumulative Scenario"
   ]
  },
  {
   "cell_type": "code",
   "execution_count": null,
   "metadata": {},
   "outputs": [],
   "source": [
    "# Getting the data.\n",
    "df = df_metrics_4_window[[\"year\", \"total_num_paper\"]].groupby(\"year\").first().reset_index()\n",
    "data = get_graph_embedding(dict(net_4_window))\n",
    "data[\"num_paper\"] = df[\"total_num_paper\"].astype(np.int64).values\n",
    "data.year = data.year.apply(lambda x: str(int(x)))"
   ]
  },
  {
   "cell_type": "code",
   "execution_count": null,
   "metadata": {},
   "outputs": [],
   "source": [
    "# Trying to discovery the optimal k.\n",
    "sse = elbow_method(data.iloc[:, 1:3].copy(), 10)\n",
    "plot_single_line_chart(sse.index, sse.values, \"Nº. of Clusters\", \"W(C)\", None,\n",
    "                       \"../data/output/08_elbow_k_optimal_window_emb.png\", 4, \"best k-clusters\")"
   ]
  },
  {
   "cell_type": "code",
   "execution_count": null,
   "metadata": {},
   "outputs": [],
   "source": [
    "# Clustering the data.\n",
    "data[\"cluster\"] = clustering_kmeans(data.iloc[:, 1:3].copy(), 4)"
   ]
  },
  {
   "cell_type": "code",
   "execution_count": null,
   "metadata": {},
   "outputs": [],
   "source": [
    "# Plotting the clustering result.\n",
    "plot_clusters(data, \"column_1\", \"column_2\", \"cluster\", \"num_paper\", \"year\",\n",
    "              \"Embedding Column 1\", \"Embedding Column 2\", None,\n",
    "              space_legend=3.5, name_fig=\"../data/output/09_clustering_embeddings_window.png\")"
   ]
  },
  {
   "cell_type": "markdown",
   "metadata": {
    "collapsed": false
   },
   "source": [
    "### 5.2. Members' Analysis"
   ]
  },
  {
   "cell_type": "markdown",
   "metadata": {},
   "source": [
    "#### 5.2.1. Clustering Analysis of Members for Discovery of Research Lines"
   ]
  },
  {
   "cell_type": "code",
   "execution_count": null,
   "metadata": {},
   "outputs": [],
   "source": [
    "# Getting the number of members per research line.\n",
    "num_members_per_rl = df_members.research_line.value_counts()\n",
    "num_members_per_rl.index = [discretize_research_line(idx) for idx in num_members_per_rl.index]"
   ]
  },
  {
   "cell_type": "markdown",
   "metadata": {},
   "source": [
    "##### 5.2.1.1. CNA Metrics"
   ]
  },
  {
   "cell_type": "code",
   "execution_count": null,
   "metadata": {},
   "outputs": [],
   "source": [
    "# Function to generate the data for specific year.\n",
    "def get_data_researcher(dataframe, year):\n",
    "    columns = [\"metric_name\", \"researcher\", \"metric_value\"]\n",
    "    columns_agg = [\"mean\", \"min\", \"max\", \"std\"]\n",
    "    metrics = [\"betweenness\", \"closeness\", \"eigenvector\", \"degree\",\n",
    "               \"eccentricity_scc\", \"clustering\", \"num_cliques\"]\n",
    "    data = dataframe.loc[(dataframe.year == year) & (dataframe.metric_name == \"degree\"),\n",
    "                         [\"researcher\", \"num_paper\"]].reset_index(drop=True).sort_values(\"researcher\")\n",
    "    df_temp = dataframe[columns].groupby([\"metric_name\", \"researcher\"]).agg(columns_agg).reset_index()\n",
    "    df_temp.columns = [\"metric_name\", \"researcher\", \"mean\", \"min\", \"max\", \"std\"]\n",
    "    for member in data.researcher.values:\n",
    "        for m in metrics:\n",
    "            data.loc[data.researcher == member, [\"{}_{}\".format(m, c) for c in columns_agg]] = df_temp.loc[\n",
    "                (df_temp.metric_name == m) & (df_temp.researcher == member), columns_agg].values \\\n",
    "                    if not df_temp.loc[(df_temp.metric_name == m) & (df_temp.researcher == member),\n",
    "                        columns_agg].empty else [None] * len(columns_agg)\n",
    "    data.fillna(0, inplace=True)\n",
    "    data[\"id\"] = data.researcher.apply(lambda x: df_members.loc[df_members.complete_name == x, \"identifiers\"].iloc[0][0])\n",
    "    data = data[[*data.columns.tolist()[-1:], *data.columns.tolist()[:-1]]]\n",
    "    data = data.reset_index().rename(columns={\"index\": \"id_alt\"})\n",
    "    data[\"id_alt\"] += 1\n",
    "    return data"
   ]
  },
  {
   "cell_type": "code",
   "execution_count": null,
   "metadata": {},
   "outputs": [],
   "source": [
    "dataframes = [df_members_4_window, df_members_2_window]\n",
    "for year, idx in {2012: 0, 2016: 0, 2020: 0, 2022: 1}.items():\n",
    "    # Gettind and preprocessing the data.\n",
    "    df = get_data_researcher(dataframes[idx].copy(), year)\n",
    "\n",
    "    # Clustering the data.\n",
    "    df[\"cluster\"] = clustering_kmeans(df.iloc[:, 4:].copy(), 3)\n",
    "    df[\"cluster\"] += 1\n",
    "    df[\"cluster\"] = df[\"cluster\"].astype(\"category\")\n",
    "    df[\"real_rl\"] = df.researcher.apply(lambda x: discretize_research_line(\n",
    "        df_members.research_line[df_members.complete_name == x].iloc[0]))\n",
    "    df[\"pred_rl\"] = set_research_line_from_cluster(df[[\"num_paper\", \"cluster\", \"real_rl\"]].copy(),\n",
    "                                                   num_members_per_rl)\n",
    "\n",
    "    # Showing the classification result.\n",
    "    plot_confusion_matrix(df[\"real_rl\"], df[\"pred_rl\"])\n",
    "    print(classification_report(df[\"real_rl\"], df[\"pred_rl\"]))\n",
    "\n",
    "    # Generating the net for visualization of nodes and saving the data.\n",
    "    generate_net_cluster(net_cumulative[2022],\n",
    "        df[[\"id\", \"id_alt\", \"num_paper\", \"cluster\", \"pred_rl\"]].copy(),\n",
    "        name_file=\"../data/output/cluster_metrics_{}.gexf\".format(year))\n",
    "    df.to_csv(\"../data/output/cluster_metrics_{}.csv\".format(year), quoting=csv.QUOTE_ALL, index=False)"
   ]
  },
  {
   "cell_type": "markdown",
   "metadata": {},
   "source": [
    "##### 5.2.1.2. Node Embeddings"
   ]
  },
  {
   "cell_type": "code",
   "execution_count": null,
   "metadata": {},
   "outputs": [],
   "source": [
    "# Function to generate the data for specific year.\n",
    "def get_data_researcher(network, dataframe, year, dimensions=10):\n",
    "    data = get_vector_from_graph(network, dimensions)\n",
    "    data = data.loc[data.is_permanent == True].reset_index(drop=True)\n",
    "    data = data.drop(columns=[\"h_index\", \"is_permanent\", \"research_line\"])\n",
    "    data = data.sort_values(\"complete_name\").reset_index(drop=True)\n",
    "    data = data.reset_index().rename(columns={\"index\": \"id_alt\", \"id_scopus\": \"id\"})\n",
    "    data[\"id_alt\"] += 1\n",
    "    data.loc[:, \"num_paper\"] = data.complete_name.apply(\n",
    "        lambda x: dataframe.loc[\n",
    "            (dataframe.year == year) & (dataframe.researcher == x), \"num_paper\"].iloc[0])\n",
    "    data = data[[*data.columns.tolist()[:3], *data.columns.tolist()[-1:], *data.columns.tolist()[3:-1]]]\n",
    "    return data"
   ]
  },
  {
   "cell_type": "code",
   "execution_count": null,
   "metadata": {},
   "outputs": [],
   "source": [
    "nets = [net_4_window, net_2_window]\n",
    "dataframes = [df_members_4_window, df_members_2_window]\n",
    "for year, idx in {2012: 0, 2016: 0, 2020: 0, 2022: 1}.items():\n",
    "    # Gettind and preprocessing the data.\n",
    "    data = get_data_researcher(nets[idx][year], dataframes[idx], year)\n",
    "\n",
    "    # Clustering the data.\n",
    "    data.loc[:, \"cluster\"] = clustering_kmeans(data[data.columns.tolist()[4:]].copy(), 3)\n",
    "    data[\"cluster\"] += 1\n",
    "    data[\"cluster\"] = data[\"cluster\"].astype(\"category\")\n",
    "    data[\"real_rl\"] = data.complete_name.apply(lambda x: discretize_research_line(\n",
    "        df_members.research_line[df_members.complete_name == x].iloc[0]))\n",
    "    data[\"pred_rl\"] = set_research_line_from_cluster(data[[\"num_paper\", \"cluster\", \"real_rl\"]].copy(),\n",
    "                                                     num_members_per_rl)\n",
    "\n",
    "    # Showing the classification result.\n",
    "    plot_confusion_matrix(data[\"real_rl\"], data[\"pred_rl\"])\n",
    "    print(classification_report(data[\"real_rl\"], data[\"pred_rl\"]))\n",
    "\n",
    "    # Generating the net for visualization of nodes and saving the data.\n",
    "    generate_net_cluster(net_cumulative[2022],\n",
    "        data[[\"id\", \"id_alt\", \"num_paper\", \"cluster\", \"pred_rl\"]].copy(),\n",
    "        name_file=\"../data/output/cluster_emb_{}.gexf\".format(year))\n",
    "    data.to_csv(\"../data/output/cluster_emb_{}.csv\".format(year), quoting=csv.QUOTE_ALL, index=False)"
   ]
  }
 ],
 "metadata": {
  "kernelspec": {
   "display_name": "Python 3.9.13 ('base')",
   "language": "python",
   "name": "python3"
  },
  "language_info": {
   "codemirror_mode": {
    "name": "ipython",
    "version": 3
   },
   "file_extension": ".py",
   "mimetype": "text/x-python",
   "name": "python",
   "nbconvert_exporter": "python",
   "pygments_lexer": "ipython3",
   "version": "3.9.13"
  },
  "vscode": {
   "interpreter": {
    "hash": "e313781e5f9487634688338feaea31cdeb3d0e175705036a80436c634137acb0"
   }
  }
 },
 "nbformat": 4,
 "nbformat_minor": 4
}
